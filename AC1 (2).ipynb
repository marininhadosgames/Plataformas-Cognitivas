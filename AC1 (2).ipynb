{
  "nbformat": 4,
  "nbformat_minor": 0,
  "metadata": {
    "colab": {
      "provenance": []
    },
    "kernelspec": {
      "name": "python3",
      "display_name": "Python 3"
    },
    "language_info": {
      "name": "python"
    }
  },
  "cells": [
    {
      "cell_type": "code",
      "execution_count": 15,
      "metadata": {
        "colab": {
          "base_uri": "https://localhost:8080/"
        },
        "id": "AR0AxcYeUb9B",
        "outputId": "9aa67815-17fd-43df-b2f3-14ed3b9e8bfe"
      },
      "outputs": [
        {
          "output_type": "stream",
          "name": "stdout",
          "text": [
            "http://mars.jpl.nasa.gov/msl-raw-images/proj/msl/redops/ods/surface/sol/01000/opgs/edr/ccam/CR0_486263086EDR_F0481570CCAM02000M_.JPG\n"
          ]
        }
      ],
      "source": [
        "import requests\n",
        "r=requests.get('https://api.nasa.gov/mars-photos/api/v1/rovers/curiosity/photos?sol=1000&camera=CHEMCAM&api_key=xLNwA2DDRkk4rT34QsHmRHdJv4ssZ0ywMHHhn3WV')\n",
        "r.json()\n",
        "print(dict(r.json())['photos'][1]['img_src']\n"
      ]
    },
    {
      "cell_type": "markdown",
      "source": [
        "Marina Mattia de Oliveira\n",
        "\n",
        "23011394"
      ],
      "metadata": {
        "id": "eE5aa8SxVRvF"
      }
    }
  ]
}