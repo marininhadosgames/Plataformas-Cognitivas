{
  "nbformat": 4,
  "nbformat_minor": 0,
  "metadata": {
    "colab": {
      "provenance": []
    },
    "kernelspec": {
      "name": "python3",
      "display_name": "Python 3"
    },
    "language_info": {
      "name": "python"
    }
  },
  "cells": [
    {
      "cell_type": "code",
      "execution_count": 5,
      "metadata": {
        "colab": {
          "base_uri": "https://localhost:8080/"
        },
        "id": "AR0AxcYeUb9B",
        "outputId": "3eab78d8-d4b1-4eff-ecaa-6ac8c7f944d0"
      },
      "outputs": [
        {
          "output_type": "execute_result",
          "data": {
            "text/plain": [
              "{'photos': [{'id': 411632,\n",
              "   'sol': 1000,\n",
              "   'camera': {'id': 23,\n",
              "    'name': 'CHEMCAM',\n",
              "    'rover_id': 5,\n",
              "    'full_name': 'Chemistry and Camera Complex'},\n",
              "   'img_src': 'http://mars.jpl.nasa.gov/msl-raw-images/proj/msl/redops/ods/surface/sol/01000/opgs/edr/ccam/CR0_486264264EDR_F0481570CCAM02000M_.JPG',\n",
              "   'earth_date': '2015-05-30',\n",
              "   'rover': {'id': 5,\n",
              "    'name': 'Curiosity',\n",
              "    'landing_date': '2012-08-06',\n",
              "    'launch_date': '2011-11-26',\n",
              "    'status': 'active',\n",
              "    'max_sol': 4102,\n",
              "    'max_date': '2024-02-19',\n",
              "    'total_photos': 695670,\n",
              "    'cameras': [{'name': 'FHAZ', 'full_name': 'Front Hazard Avoidance Camera'},\n",
              "     {'name': 'NAVCAM', 'full_name': 'Navigation Camera'},\n",
              "     {'name': 'MAST', 'full_name': 'Mast Camera'},\n",
              "     {'name': 'CHEMCAM', 'full_name': 'Chemistry and Camera Complex'},\n",
              "     {'name': 'MAHLI', 'full_name': 'Mars Hand Lens Imager'},\n",
              "     {'name': 'MARDI', 'full_name': 'Mars Descent Imager'},\n",
              "     {'name': 'RHAZ', 'full_name': 'Rear Hazard Avoidance Camera'}]}},\n",
              "  {'id': 411633,\n",
              "   'sol': 1000,\n",
              "   'camera': {'id': 23,\n",
              "    'name': 'CHEMCAM',\n",
              "    'rover_id': 5,\n",
              "    'full_name': 'Chemistry and Camera Complex'},\n",
              "   'img_src': 'http://mars.jpl.nasa.gov/msl-raw-images/proj/msl/redops/ods/surface/sol/01000/opgs/edr/ccam/CR0_486263086EDR_F0481570CCAM02000M_.JPG',\n",
              "   'earth_date': '2015-05-30',\n",
              "   'rover': {'id': 5,\n",
              "    'name': 'Curiosity',\n",
              "    'landing_date': '2012-08-06',\n",
              "    'launch_date': '2011-11-26',\n",
              "    'status': 'active',\n",
              "    'max_sol': 4102,\n",
              "    'max_date': '2024-02-19',\n",
              "    'total_photos': 695670,\n",
              "    'cameras': [{'name': 'FHAZ', 'full_name': 'Front Hazard Avoidance Camera'},\n",
              "     {'name': 'NAVCAM', 'full_name': 'Navigation Camera'},\n",
              "     {'name': 'MAST', 'full_name': 'Mast Camera'},\n",
              "     {'name': 'CHEMCAM', 'full_name': 'Chemistry and Camera Complex'},\n",
              "     {'name': 'MAHLI', 'full_name': 'Mars Hand Lens Imager'},\n",
              "     {'name': 'MARDI', 'full_name': 'Mars Descent Imager'},\n",
              "     {'name': 'RHAZ', 'full_name': 'Rear Hazard Avoidance Camera'}]}},\n",
              "  {'id': 411634,\n",
              "   'sol': 1000,\n",
              "   'camera': {'id': 23,\n",
              "    'name': 'CHEMCAM',\n",
              "    'rover_id': 5,\n",
              "    'full_name': 'Chemistry and Camera Complex'},\n",
              "   'img_src': 'http://mars.jpl.nasa.gov/msl-raw-images/proj/msl/redops/ods/surface/sol/01000/soas/rdr/ccam/CR0_486264264PRC_F0481570CCAM02000L1.PNG',\n",
              "   'earth_date': '2015-05-30',\n",
              "   'rover': {'id': 5,\n",
              "    'name': 'Curiosity',\n",
              "    'landing_date': '2012-08-06',\n",
              "    'launch_date': '2011-11-26',\n",
              "    'status': 'active',\n",
              "    'max_sol': 4102,\n",
              "    'max_date': '2024-02-19',\n",
              "    'total_photos': 695670,\n",
              "    'cameras': [{'name': 'FHAZ', 'full_name': 'Front Hazard Avoidance Camera'},\n",
              "     {'name': 'NAVCAM', 'full_name': 'Navigation Camera'},\n",
              "     {'name': 'MAST', 'full_name': 'Mast Camera'},\n",
              "     {'name': 'CHEMCAM', 'full_name': 'Chemistry and Camera Complex'},\n",
              "     {'name': 'MAHLI', 'full_name': 'Mars Hand Lens Imager'},\n",
              "     {'name': 'MARDI', 'full_name': 'Mars Descent Imager'},\n",
              "     {'name': 'RHAZ', 'full_name': 'Rear Hazard Avoidance Camera'}]}},\n",
              "  {'id': 411635,\n",
              "   'sol': 1000,\n",
              "   'camera': {'id': 23,\n",
              "    'name': 'CHEMCAM',\n",
              "    'rover_id': 5,\n",
              "    'full_name': 'Chemistry and Camera Complex'},\n",
              "   'img_src': 'http://mars.jpl.nasa.gov/msl-raw-images/proj/msl/redops/ods/surface/sol/01000/soas/rdr/ccam/CR0_486263086PRC_F0481570CCAM02000L1.PNG',\n",
              "   'earth_date': '2015-05-30',\n",
              "   'rover': {'id': 5,\n",
              "    'name': 'Curiosity',\n",
              "    'landing_date': '2012-08-06',\n",
              "    'launch_date': '2011-11-26',\n",
              "    'status': 'active',\n",
              "    'max_sol': 4102,\n",
              "    'max_date': '2024-02-19',\n",
              "    'total_photos': 695670,\n",
              "    'cameras': [{'name': 'FHAZ', 'full_name': 'Front Hazard Avoidance Camera'},\n",
              "     {'name': 'NAVCAM', 'full_name': 'Navigation Camera'},\n",
              "     {'name': 'MAST', 'full_name': 'Mast Camera'},\n",
              "     {'name': 'CHEMCAM', 'full_name': 'Chemistry and Camera Complex'},\n",
              "     {'name': 'MAHLI', 'full_name': 'Mars Hand Lens Imager'},\n",
              "     {'name': 'MARDI', 'full_name': 'Mars Descent Imager'},\n",
              "     {'name': 'RHAZ', 'full_name': 'Rear Hazard Avoidance Camera'}]}}]}"
            ]
          },
          "metadata": {},
          "execution_count": 5
        }
      ],
      "source": [
        "import requests\n",
        "r=requests.get('https://api.nasa.gov/mars-photos/api/v1/rovers/curiosity/photos?sol=1000&camera=CHEMCAM&api_key=xLNwA2DDRkk4rT34QsHmRHdJv4ssZ0ywMHHhn3WV')\n",
        "r.json()"
      ]
    },
    {
      "cell_type": "markdown",
      "source": [
        "Marina Mattia de Oliveira\n",
        "\n",
        "23011394"
      ],
      "metadata": {
        "id": "eE5aa8SxVRvF"
      }
    }
  ]
}